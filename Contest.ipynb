{
 "cells": [
  {
   "cell_type": "markdown",
   "id": "dc6a25a2",
   "metadata": {},
   "source": [
    "# Student activity analysis (Продолжение, 3 часть)"
   ]
  },
  {
   "cell_type": "code",
   "execution_count": 1,
   "id": "9d8e5997",
   "metadata": {},
   "outputs": [],
   "source": [
    "import pandas as pd\n",
    "import numpy as np\n",
    "from sklearn import tree\n",
    "from sklearn.ensemble import RandomForestClassifier\n",
    "from sklearn.neighbors import KNeighborsClassifier\n",
    "from sklearn.model_selection import GridSearchCV\n",
    "from sklearn.metrics import roc_curve, auc\n",
    "from sklearn.metrics import roc_auc_score\n",
    "from sklearn.model_selection import train_test_split\n",
    "from sklearn.linear_model import LogisticRegression\n",
    "from sklearn.linear_model import LogisticRegressionCV\n",
    "from sklearn.metrics import precision_score, recall_score, accuracy_score, f1_score\n",
    "from mlxtend.plotting import category_scatter, plot_decision_regions\n",
    "%config IPCompleter.greedy = True"
   ]
  },
  {
   "cell_type": "markdown",
   "id": "d876792b",
   "metadata": {},
   "source": [
    "## Загрузка Датасетов"
   ]
  },
  {
   "cell_type": "code",
   "execution_count": 2,
   "id": "cdce40b3",
   "metadata": {},
   "outputs": [],
   "source": [
    "events_data_train = pd.read_csv('https://stepik.org/media/attachments/course/4852/event_data_train.zip')"
   ]
  },
  {
   "cell_type": "code",
   "execution_count": 3,
   "id": "bc5872a2",
   "metadata": {},
   "outputs": [],
   "source": [
    "submissions_data_train = pd.read_csv('https://stepik.org/media/attachments/course/4852/submissions_data_train.zip', \\\n",
    "                               compression ='zip')"
   ]
  },
  {
   "cell_type": "markdown",
   "id": "98927636",
   "metadata": {},
   "source": [
    "### Данные Датасеты будут использованны для предсказания"
   ]
  },
  {
   "cell_type": "code",
   "execution_count": 4,
   "id": "6b09c469",
   "metadata": {},
   "outputs": [],
   "source": [
    "events_data_test = pd.read_csv('C:\\\\Users\\\\UserOfPC\\\\Documents\\\\Основы Data Science Stepik\\\\Датасеты\\\\events_data_test.csv')"
   ]
  },
  {
   "cell_type": "code",
   "execution_count": 5,
   "id": "5bb7a3e0",
   "metadata": {},
   "outputs": [],
   "source": [
    "submission_data_test = pd.read_csv('C:\\\\Users\\\\UserOfPC\\\\Documents\\\\Основы Data Science Stepik\\\\Датасеты\\\\submission_data_test.csv')"
   ]
  },
  {
   "cell_type": "markdown",
   "id": "3e125058",
   "metadata": {},
   "source": [
    "### Предобработка и фильтрация данных (используя данные о первых двух днях активности на курсе)"
   ]
  },
  {
   "cell_type": "code",
   "execution_count": 6,
   "id": "a265f916",
   "metadata": {},
   "outputs": [],
   "source": [
    "def create_df(events_data, submissions_data, days_threshold=2):\n",
    "\n",
    "    events_data['date'] = pd.to_datetime(events_data.timestamp, unit='s')\n",
    "    submissions_data['date'] = pd.to_datetime(submissions_data.timestamp, unit='s')\n",
    "    events_data['day'] = events_data.date.dt.date\n",
    "    submissions_data['day'] = submissions_data.date.dt.date\n",
    "\n",
    "    # Посчитаем число степов, которые решил каждый пользователей.\n",
    "    users_events_data=events_data.pivot_table(index = 'user_id', \n",
    "                            columns='action', \n",
    "                            values='step_id', \n",
    "                            aggfunc='count',\n",
    "                            fill_value=0).reset_index()\n",
    "\n",
    "    # Посчитаем сколько данных, имеющих статус \"correct\" submit.\n",
    "    users_scores = submissions_data.pivot_table(index = 'user_id', \n",
    "                            columns='submission_status', \n",
    "                            values='step_id', \n",
    "                            aggfunc='count',\n",
    "                            fill_value=0).reset_index()\n",
    "\n",
    "    # Таймстемп нашего порогового значения в днях:\n",
    "    drop_out_threshold = days_threshold * 24 * 60 * 60\n",
    "\n",
    "    users_data = events_data.groupby('user_id', as_index=False) \\\n",
    "        .agg({'timestamp': 'max'}) \\\n",
    "        .rename(columns={'timestamp': 'last_timestamp'})\n",
    "\n",
    "    now = 1526772811\n",
    "\n",
    "    users_data['is_gone_user'] = (now - users_data.last_timestamp) > drop_out_threshold\n",
    "\n",
    "    # для того, чтобы не потерять юзеров, у которых не было ни 1 попытки в табл. users_scores\n",
    "    # будем мерджить 'outer'. Т.к. по умолчанию 'inner' - только пересечения.\n",
    "    users_data = users_data.merge(users_scores, on='user_id', how='outer')\n",
    "\n",
    "    users_data = users_data.merge(users_events_data, how='outer')\n",
    "\n",
    "    # Посчитаем число уникальных дней для каждого юзера и примерджим к Датафрейму users_data.\n",
    "    users_days = events_data.groupby('user_id').day.nunique().to_frame().reset_index()\n",
    "\n",
    "    users_data = users_data.merge(users_days, how='outer')\n",
    "\n",
    "\n",
    "    return users_data"
   ]
  },
  {
   "cell_type": "markdown",
   "id": "b59852db",
   "metadata": {},
   "source": [
    "### Фильтрация данных и добавление целевой переменной passed_course "
   ]
  },
  {
   "cell_type": "code",
   "execution_count": 7,
   "id": "df752cb2",
   "metadata": {},
   "outputs": [],
   "source": [
    "def create_df_filter(users_data, filter=40):\n",
    "\n",
    "    # Юзер успешно прошел курс, если набрал более 40 баллов (за 2 дня).\n",
    "    users_data['passed_course'] = users_data.passed > filter\n",
    "\n",
    "    # доля прошедших курс\n",
    "    users_data['passed_course'].value_counts(normalize=True)\n",
    "\n",
    "    return users_data"
   ]
  },
  {
   "cell_type": "markdown",
   "id": "f1f1875d",
   "metadata": {},
   "source": [
    "### Предобработка и добавление признаков"
   ]
  },
  {
   "cell_type": "code",
   "execution_count": 8,
   "id": "0a978f67",
   "metadata": {},
   "outputs": [],
   "source": [
    "def preprocessing_filter(users_data, events_data, submissions_data, days_threshold=2):\n",
    "\n",
    "    # Задача: отобрать те наблюдения, которые мы будем использовать для обучения, events data, \n",
    "    # т.е. события которые происходили с ним в течении первых 2 дней.\n",
    "\n",
    "    user_min_time = events_data.groupby('user_id', as_index=False) \\\n",
    "        .agg({'timestamp': 'min'}) \\\n",
    "        .rename({'timestamp': 'min_timestamp'}, axis=1)\n",
    "\n",
    "    users_data = users_data.merge(user_min_time, how='outer')\n",
    "\n",
    "    events_data['user_time'] = events_data.user_id.map(str) + '_' + events_data.timestamp.map(str)\n",
    "\n",
    "    # посчитаем порог\n",
    "    learning_time_treshold = days_threshold * 24 * 60 * 60  \n",
    "\n",
    "    # для каждого юзера посчитаем его 3х дневную дату (первые дни) и склеим это в строку с айди\n",
    "    user_learning_time_treshold = user_min_time.user_id.map(str) + '_' + (user_min_time.min_timestamp + learning_time_treshold).map(str)\n",
    "\n",
    "    user_min_time['user_learning_time_treshold'] = user_learning_time_treshold\n",
    "\n",
    "    # Смерджим, outer - чтобы не потерять пропущенные значения\n",
    "    events_data = events_data.merge(user_min_time[['user_id', 'user_learning_time_treshold']], how='outer') \n",
    "\n",
    "    # Теперь сравним строки\n",
    "    # Отфильтруем данные по каждому пользователю, чтобы user_time вписывался в наши сроки\n",
    "    events_data_final = events_data[events_data.user_time <= events_data.user_learning_time_treshold]\n",
    "\n",
    "    # Сначала отфильтруем все неверные шаги всех пользователей\n",
    "    submissions_data_wrong = submissions_data[(submissions_data.submission_status == 'wrong')]\n",
    "\n",
    "    # Для каждого пользователя найдем его последний по времени шаг\n",
    "    submissions_data_last = submissions_data_wrong.groupby(['user_id']) \\\n",
    "        .agg({'timestamp': 'max'}) \\\n",
    "        .rename(columns={'timestamp': 'last_timestamp'})\n",
    "\n",
    "    # Смерджим эти две таблицы\n",
    "    submissions_data_last = submissions_data_last.merge(submissions_data_wrong[['step_id', 'user_id', 'submission_status']], on='user_id', how='outer')\n",
    "\n",
    "    # Сгруппируем по степу, посчитаем количество юзеров по каждому степу и отсортируем по убыванию.\n",
    "    submissions_data_last = submissions_data_wrong.groupby(['step_id'], as_index=False) \\\n",
    "        .agg({'user_id': 'count'}) \\\n",
    "        .sort_values(by=['user_id'], ascending=False) \\\n",
    "        .rename(columns={'user_id': 'count_user_id'})\n",
    "\n",
    "    # Проделаем все то же самое для ДатаСета submissions_data\n",
    "    submissions_data['user_time'] = submissions_data.user_id.map(str) + '_' + submissions_data.timestamp.map(str)\n",
    "    submissions_data = submissions_data.merge(user_min_time[['user_id', 'user_learning_time_treshold']], how='outer')\n",
    "    submissions_data_final= submissions_data[submissions_data.user_time <= submissions_data.user_learning_time_treshold]\n",
    "\n",
    "    return events_data_final, submissions_data_final"
   ]
  },
  {
   "cell_type": "markdown",
   "id": "df542e91",
   "metadata": {},
   "source": [
    "### Создание датасетов X и y для модели "
   ]
  },
  {
   "cell_type": "code",
   "execution_count": 9,
   "id": "85ec69a6",
   "metadata": {},
   "outputs": [],
   "source": [
    "def create_train_X(events_data_final, submissions_data_final, users_data):\n",
    "    \n",
    "    # Возьмем число уникальных дней, которые есть в сабмитах\n",
    "    X = submissions_data_final.groupby('user_id').day.nunique().to_frame().reset_index() \\\n",
    "        .rename(columns={'day': 'days'})\n",
    "\n",
    "    # Посчитаем сколько степов человек попытался решить за первые дни\n",
    "    steps_tried = submissions_data_final.groupby('user_id').step_id.nunique().to_frame().reset_index() \\\n",
    "        .rename(columns={'step_id': 'step_tried'})\n",
    "\n",
    "    X = X.merge(steps_tried, on='user_id', how='outer')\n",
    "\n",
    "    # Добавим по каждому пользователю кол-во правильных/неправильных сабмитов за первые 2 дня\n",
    "    X = X.merge(submissions_data_final.pivot_table(index = 'user_id', \n",
    "                            columns='submission_status', \n",
    "                            values='step_id', \n",
    "                            aggfunc='count',\n",
    "                            fill_value=0).reset_index())\n",
    "\n",
    "    # Добавим еще одну переменную - доля правильных ответов\n",
    "    X['correct_ratio'] = round(X.correct / (X.correct + X.wrong), 2)\n",
    "\n",
    "    # Добавим сколько было суммарно просмотренных степов\n",
    "    X = X.merge(events_data_final.pivot_table(index = 'user_id', \n",
    "                            columns='action', \n",
    "                            values='step_id', \n",
    "                            aggfunc='count',\n",
    "                            fill_value=0).reset_index()[['user_id', 'viewed']], how='outer')\n",
    "\n",
    "    # Заполним пропуски нулем\n",
    "    X = X.fillna(0)\n",
    "\n",
    "    # Добавим информацию закончил ли пользователь курс и дропнулся он или нет \n",
    "    X = X.merge(users_data[['user_id', 'passed_course', 'is_gone_user']], how='outer')\n",
    "\n",
    "    # Отфильтруем данные для X (нам нужны кто уже либо прошел курс либо курс не прошел, но бросил его) Знак тильда - отрицание\n",
    "    X = X[~((X.is_gone_user == False) & (X.passed_course ==False))]\n",
    "    \n",
    "    y = X.passed_course.map(int)\n",
    "\n",
    "    X = X.drop(['passed_course', 'is_gone_user'], axis=1)\n",
    "\n",
    "    # Сделаем в качестве индекса - user_id\n",
    "    X = X.set_index(X.user_id)\n",
    "    X = X.drop('user_id', axis=1)\n",
    "\n",
    "    return X, y"
   ]
  },
  {
   "cell_type": "markdown",
   "id": "9cea1c5b",
   "metadata": {},
   "source": [
    "Данная функция для создания итогового датасета Х для предсказания немного отличается:"
   ]
  },
  {
   "cell_type": "code",
   "execution_count": 10,
   "id": "5489488b",
   "metadata": {},
   "outputs": [],
   "source": [
    "def create_test_X(events_data_final, submissions_data_final, users_data):\n",
    "    \n",
    "    # Возьмем число уникальных дней, которые есть в сабмитах\n",
    "    X = submissions_data_final.groupby('user_id').day.nunique().to_frame().reset_index() \\\n",
    "        .rename(columns={'day': 'days'})\n",
    "\n",
    "    # Посчитаем сколько степов человек попытался решить за первые дни\n",
    "    steps_tried = submissions_data_final.groupby('user_id').step_id.nunique().to_frame().reset_index() \\\n",
    "        .rename(columns={'step_id': 'step_tried'})\n",
    "\n",
    "    X = X.merge(steps_tried, on='user_id', how='outer')\n",
    "\n",
    "    # Добавим по каждому пользователю кол-во правильных/неправильных сабмитов за первые 2 дня\n",
    "    X = X.merge(submissions_data_final.pivot_table(index = 'user_id', \n",
    "                            columns='submission_status', \n",
    "                            values='step_id', \n",
    "                            aggfunc='count',\n",
    "                            fill_value=0).reset_index())\n",
    "\n",
    "    # Добавим еще одну переменную - доля правильных ответов\n",
    "    X['correct_ratio'] = round(X.correct / (X.correct + X.wrong), 2)\n",
    "\n",
    "    # Добавим сколько было суммарно просмотренных степов\n",
    "    X = X.merge(events_data_final.pivot_table(index = 'user_id', \n",
    "                            columns='action', \n",
    "                            values='step_id', \n",
    "                            aggfunc='count',\n",
    "                            fill_value=0).reset_index()[['user_id', 'viewed']], how='outer')\n",
    "\n",
    "    # Заполним пропуски нулем\n",
    "    X = X.fillna(0)\n",
    "\n",
    "    # Добавим информацию закончил ли пользователь курс и дропнулся он или нет \n",
    "    X = X.merge(users_data[['user_id', 'passed_course', 'is_gone_user']], how='outer')\n",
    "       \n",
    "    y = X.passed_course.map(int)\n",
    "\n",
    "    X = X.drop(['passed_course', 'is_gone_user'], axis=1)\n",
    "\n",
    "    # Сделаем в качестве индекса - user_id\n",
    "    X = X.set_index(X.user_id)\n",
    "    X = X.drop('user_id', axis=1)\n",
    "\n",
    "    return X"
   ]
  },
  {
   "cell_type": "code",
   "execution_count": 11,
   "id": "3b23a67c",
   "metadata": {},
   "outputs": [],
   "source": [
    "def final_create_train_df(events_data, submissions_data):\n",
    "\n",
    "    users_data_1 = create_df(events_data, submissions_data)\n",
    "    users_data_2 = create_df_filter(users_data_1)\n",
    "    events_data_final, submissions_data_final = preprocessing_filter(users_data_2, events_data, submissions_data)\n",
    "    X, y = create_train_X(events_data_final, submissions_data_final, users_data_2)\n",
    "        \n",
    "    return X, y"
   ]
  },
  {
   "cell_type": "code",
   "execution_count": 12,
   "id": "eb17202f",
   "metadata": {},
   "outputs": [],
   "source": [
    "X, y = final_create_train_df(events_data_train, submissions_data_train)"
   ]
  },
  {
   "cell_type": "code",
   "execution_count": 13,
   "id": "4f3bc1ff",
   "metadata": {},
   "outputs": [],
   "source": [
    "def final_create_test_df(events_data, submissions_data):\n",
    "\n",
    "    users_data_1 = create_df(events_data, submissions_data)\n",
    "    users_data_2 = create_df_filter(users_data_1)\n",
    "    events_data_final, submissions_data_final = preprocessing_filter(users_data_2, events_data, submissions_data)\n",
    "    X = create_test_X(events_data_final, submissions_data_final, users_data_2)\n",
    "        \n",
    "    return X"
   ]
  },
  {
   "cell_type": "code",
   "execution_count": 14,
   "id": "102e751b",
   "metadata": {},
   "outputs": [],
   "source": [
    "X_test_final = final_create_test_df(events_data_test, submission_data_test)"
   ]
  },
  {
   "cell_type": "code",
   "execution_count": 15,
   "id": "e6c18268",
   "metadata": {},
   "outputs": [],
   "source": [
    "X_train, X_test, y_train, y_test =  train_test_split(X, y, test_size=0.3, random_state=42)"
   ]
  },
  {
   "cell_type": "markdown",
   "id": "586db6ef",
   "metadata": {},
   "source": [
    "### Обучение модели RandomForestClassifier"
   ]
  },
  {
   "cell_type": "code",
   "execution_count": 46,
   "id": "b1062afc",
   "metadata": {},
   "outputs": [],
   "source": [
    "clf_rf = RandomForestClassifier(class_weight='balanced', random_state=42)"
   ]
  },
  {
   "cell_type": "code",
   "execution_count": 47,
   "id": "e3b50a38",
   "metadata": {},
   "outputs": [],
   "source": [
    "parametrs = {'n_estimators': [7, 40, 100], \n",
    "             'max_depth': [2, 5, 7, 10],\n",
    "             'min_samples_leaf' : [10],\n",
    "             'min_samples_split': [10]}"
   ]
  },
  {
   "cell_type": "code",
   "execution_count": 48,
   "id": "74d9c2df",
   "metadata": {},
   "outputs": [],
   "source": [
    "grid_search_cv_clf_rf = GridSearchCV(clf_rf, parametrs, cv=5)"
   ]
  },
  {
   "cell_type": "code",
   "execution_count": 49,
   "id": "42ffb88f",
   "metadata": {},
   "outputs": [
    {
     "data": {
      "text/html": [
       "<style>#sk-container-id-3 {color: black;background-color: white;}#sk-container-id-3 pre{padding: 0;}#sk-container-id-3 div.sk-toggleable {background-color: white;}#sk-container-id-3 label.sk-toggleable__label {cursor: pointer;display: block;width: 100%;margin-bottom: 0;padding: 0.3em;box-sizing: border-box;text-align: center;}#sk-container-id-3 label.sk-toggleable__label-arrow:before {content: \"▸\";float: left;margin-right: 0.25em;color: #696969;}#sk-container-id-3 label.sk-toggleable__label-arrow:hover:before {color: black;}#sk-container-id-3 div.sk-estimator:hover label.sk-toggleable__label-arrow:before {color: black;}#sk-container-id-3 div.sk-toggleable__content {max-height: 0;max-width: 0;overflow: hidden;text-align: left;background-color: #f0f8ff;}#sk-container-id-3 div.sk-toggleable__content pre {margin: 0.2em;color: black;border-radius: 0.25em;background-color: #f0f8ff;}#sk-container-id-3 input.sk-toggleable__control:checked~div.sk-toggleable__content {max-height: 200px;max-width: 100%;overflow: auto;}#sk-container-id-3 input.sk-toggleable__control:checked~label.sk-toggleable__label-arrow:before {content: \"▾\";}#sk-container-id-3 div.sk-estimator input.sk-toggleable__control:checked~label.sk-toggleable__label {background-color: #d4ebff;}#sk-container-id-3 div.sk-label input.sk-toggleable__control:checked~label.sk-toggleable__label {background-color: #d4ebff;}#sk-container-id-3 input.sk-hidden--visually {border: 0;clip: rect(1px 1px 1px 1px);clip: rect(1px, 1px, 1px, 1px);height: 1px;margin: -1px;overflow: hidden;padding: 0;position: absolute;width: 1px;}#sk-container-id-3 div.sk-estimator {font-family: monospace;background-color: #f0f8ff;border: 1px dotted black;border-radius: 0.25em;box-sizing: border-box;margin-bottom: 0.5em;}#sk-container-id-3 div.sk-estimator:hover {background-color: #d4ebff;}#sk-container-id-3 div.sk-parallel-item::after {content: \"\";width: 100%;border-bottom: 1px solid gray;flex-grow: 1;}#sk-container-id-3 div.sk-label:hover label.sk-toggleable__label {background-color: #d4ebff;}#sk-container-id-3 div.sk-serial::before {content: \"\";position: absolute;border-left: 1px solid gray;box-sizing: border-box;top: 0;bottom: 0;left: 50%;z-index: 0;}#sk-container-id-3 div.sk-serial {display: flex;flex-direction: column;align-items: center;background-color: white;padding-right: 0.2em;padding-left: 0.2em;position: relative;}#sk-container-id-3 div.sk-item {position: relative;z-index: 1;}#sk-container-id-3 div.sk-parallel {display: flex;align-items: stretch;justify-content: center;background-color: white;position: relative;}#sk-container-id-3 div.sk-item::before, #sk-container-id-3 div.sk-parallel-item::before {content: \"\";position: absolute;border-left: 1px solid gray;box-sizing: border-box;top: 0;bottom: 0;left: 50%;z-index: -1;}#sk-container-id-3 div.sk-parallel-item {display: flex;flex-direction: column;z-index: 1;position: relative;background-color: white;}#sk-container-id-3 div.sk-parallel-item:first-child::after {align-self: flex-end;width: 50%;}#sk-container-id-3 div.sk-parallel-item:last-child::after {align-self: flex-start;width: 50%;}#sk-container-id-3 div.sk-parallel-item:only-child::after {width: 0;}#sk-container-id-3 div.sk-dashed-wrapped {border: 1px dashed gray;margin: 0 0.4em 0.5em 0.4em;box-sizing: border-box;padding-bottom: 0.4em;background-color: white;}#sk-container-id-3 div.sk-label label {font-family: monospace;font-weight: bold;display: inline-block;line-height: 1.2em;}#sk-container-id-3 div.sk-label-container {text-align: center;}#sk-container-id-3 div.sk-container {/* jupyter's `normalize.less` sets `[hidden] { display: none; }` but bootstrap.min.css set `[hidden] { display: none !important; }` so we also need the `!important` here to be able to override the default hidden behavior on the sphinx rendered scikit-learn.org. See: https://github.com/scikit-learn/scikit-learn/issues/21755 */display: inline-block !important;position: relative;}#sk-container-id-3 div.sk-text-repr-fallback {display: none;}</style><div id=\"sk-container-id-3\" class=\"sk-top-container\"><div class=\"sk-text-repr-fallback\"><pre>GridSearchCV(cv=5,\n",
       "             estimator=RandomForestClassifier(class_weight=&#x27;balanced&#x27;,\n",
       "                                              random_state=42),\n",
       "             param_grid={&#x27;max_depth&#x27;: [2, 5, 7, 10], &#x27;min_samples_leaf&#x27;: [10],\n",
       "                         &#x27;min_samples_split&#x27;: [10],\n",
       "                         &#x27;n_estimators&#x27;: [7, 40, 100]})</pre><b>In a Jupyter environment, please rerun this cell to show the HTML representation or trust the notebook. <br />On GitHub, the HTML representation is unable to render, please try loading this page with nbviewer.org.</b></div><div class=\"sk-container\" hidden><div class=\"sk-item sk-dashed-wrapped\"><div class=\"sk-label-container\"><div class=\"sk-label sk-toggleable\"><input class=\"sk-toggleable__control sk-hidden--visually\" id=\"sk-estimator-id-7\" type=\"checkbox\" ><label for=\"sk-estimator-id-7\" class=\"sk-toggleable__label sk-toggleable__label-arrow\">GridSearchCV</label><div class=\"sk-toggleable__content\"><pre>GridSearchCV(cv=5,\n",
       "             estimator=RandomForestClassifier(class_weight=&#x27;balanced&#x27;,\n",
       "                                              random_state=42),\n",
       "             param_grid={&#x27;max_depth&#x27;: [2, 5, 7, 10], &#x27;min_samples_leaf&#x27;: [10],\n",
       "                         &#x27;min_samples_split&#x27;: [10],\n",
       "                         &#x27;n_estimators&#x27;: [7, 40, 100]})</pre></div></div></div><div class=\"sk-parallel\"><div class=\"sk-parallel-item\"><div class=\"sk-item\"><div class=\"sk-label-container\"><div class=\"sk-label sk-toggleable\"><input class=\"sk-toggleable__control sk-hidden--visually\" id=\"sk-estimator-id-8\" type=\"checkbox\" ><label for=\"sk-estimator-id-8\" class=\"sk-toggleable__label sk-toggleable__label-arrow\">estimator: RandomForestClassifier</label><div class=\"sk-toggleable__content\"><pre>RandomForestClassifier(class_weight=&#x27;balanced&#x27;, random_state=42)</pre></div></div></div><div class=\"sk-serial\"><div class=\"sk-item\"><div class=\"sk-estimator sk-toggleable\"><input class=\"sk-toggleable__control sk-hidden--visually\" id=\"sk-estimator-id-9\" type=\"checkbox\" ><label for=\"sk-estimator-id-9\" class=\"sk-toggleable__label sk-toggleable__label-arrow\">RandomForestClassifier</label><div class=\"sk-toggleable__content\"><pre>RandomForestClassifier(class_weight=&#x27;balanced&#x27;, random_state=42)</pre></div></div></div></div></div></div></div></div></div></div>"
      ],
      "text/plain": [
       "GridSearchCV(cv=5,\n",
       "             estimator=RandomForestClassifier(class_weight='balanced',\n",
       "                                              random_state=42),\n",
       "             param_grid={'max_depth': [2, 5, 7, 10], 'min_samples_leaf': [10],\n",
       "                         'min_samples_split': [10],\n",
       "                         'n_estimators': [7, 40, 100]})"
      ]
     },
     "execution_count": 49,
     "metadata": {},
     "output_type": "execute_result"
    }
   ],
   "source": [
    "grid_search_cv_clf_rf.fit(X_train, y_train)"
   ]
  },
  {
   "cell_type": "code",
   "execution_count": 50,
   "id": "adf516b8",
   "metadata": {},
   "outputs": [
    {
     "data": {
      "text/plain": [
       "{'max_depth': 10,\n",
       " 'min_samples_leaf': 10,\n",
       " 'min_samples_split': 10,\n",
       " 'n_estimators': 40}"
      ]
     },
     "execution_count": 50,
     "metadata": {},
     "output_type": "execute_result"
    }
   ],
   "source": [
    "grid_search_cv_clf_rf.best_params_"
   ]
  },
  {
   "cell_type": "code",
   "execution_count": 51,
   "id": "07cc9ba6",
   "metadata": {},
   "outputs": [],
   "source": [
    "best_clf_rf = grid_search_cv_clf_rf.best_estimator_"
   ]
  },
  {
   "cell_type": "code",
   "execution_count": 52,
   "id": "b5f56a24",
   "metadata": {},
   "outputs": [
    {
     "name": "stdout",
     "output_type": "stream",
     "text": [
      "rf\n",
      "Accuracy = 0.79\n",
      "Precision = 0.53\n",
      "Recall = 0.79\n",
      "F1-score = 0.63\n"
     ]
    }
   ],
   "source": [
    "y_pred = best_clf_rf.predict(X_test)\n",
    "print('rf')\n",
    "print(f'Accuracy = {round(accuracy_score(y_test, y_pred), 2)}')\n",
    "print(f'Precision = {round(precision_score(y_test, y_pred), 2)}')\n",
    "print(f'Recall = {round(recall_score(y_test, y_pred), 2)}')\n",
    "print(f'F1-score = {round(f1_score(y_test, y_pred), 2)}')"
   ]
  },
  {
   "cell_type": "code",
   "execution_count": 53,
   "id": "ef174564",
   "metadata": {},
   "outputs": [],
   "source": [
    "y_pred = best_clf_rf.predict(X_test)"
   ]
  },
  {
   "cell_type": "code",
   "execution_count": 54,
   "id": "a5757325",
   "metadata": {},
   "outputs": [
    {
     "name": "stdout",
     "output_type": "stream",
     "text": [
      "roc_score = 0.87\n"
     ]
    }
   ],
   "source": [
    "y_predicted_prob = best_clf_rf.predict_proba(X_test)\n",
    "roc_score = roc_auc_score(y_test, y_predicted_prob[:, 1])\n",
    "print(f'roc_score = {round(roc_auc_score(y_test, y_predicted_prob[:, 1]), 2)}')"
   ]
  },
  {
   "cell_type": "markdown",
   "id": "912a8ad1",
   "metadata": {},
   "source": [
    "### Итоги и финальное предсказание сможет ли пользователь успешно закончить онлайн курс Анализ данных в R."
   ]
  },
  {
   "cell_type": "markdown",
   "id": "a088c71f",
   "metadata": {},
   "source": [
    "Видим, что теперь, после финальной предобработки данных, отбора первых двух дней активности по каждому пользователю и фильтрации по баллам (выбранный порог для меток классов - 40 баллов), новая модель RandomForestClassifier с подобранными парметрами выдает более качественные результирующие метрики. Данная модель нас устраивает и может быть проведено финальное предсказание на данных events_data_test и  submission_data_test."
   ]
  },
  {
   "cell_type": "code",
   "execution_count": 55,
   "id": "7d3db98b",
   "metadata": {},
   "outputs": [],
   "source": [
    "ypred_prob_final = best_clf_rf.predict_proba(X_test_final)"
   ]
  },
  {
   "cell_type": "markdown",
   "id": "33ee07c9",
   "metadata": {},
   "source": [
    "Получим финальную таблицу с предсказаниями вероятностей покинет ли студент курс или закончит его."
   ]
  },
  {
   "cell_type": "code",
   "execution_count": 56,
   "id": "9525aca6",
   "metadata": {},
   "outputs": [
    {
     "data": {
      "text/html": [
       "<div>\n",
       "<style scoped>\n",
       "    .dataframe tbody tr th:only-of-type {\n",
       "        vertical-align: middle;\n",
       "    }\n",
       "\n",
       "    .dataframe tbody tr th {\n",
       "        vertical-align: top;\n",
       "    }\n",
       "\n",
       "    .dataframe thead th {\n",
       "        text-align: right;\n",
       "    }\n",
       "</style>\n",
       "<table border=\"1\" class=\"dataframe\">\n",
       "  <thead>\n",
       "    <tr style=\"text-align: right;\">\n",
       "      <th></th>\n",
       "      <th>user_id</th>\n",
       "      <th>is_gone</th>\n",
       "    </tr>\n",
       "  </thead>\n",
       "  <tbody>\n",
       "    <tr>\n",
       "      <th>0</th>\n",
       "      <td>12</td>\n",
       "      <td>0.490399</td>\n",
       "    </tr>\n",
       "    <tr>\n",
       "      <th>1</th>\n",
       "      <td>13</td>\n",
       "      <td>0.999528</td>\n",
       "    </tr>\n",
       "    <tr>\n",
       "      <th>2</th>\n",
       "      <td>21</td>\n",
       "      <td>0.991330</td>\n",
       "    </tr>\n",
       "    <tr>\n",
       "      <th>3</th>\n",
       "      <td>35</td>\n",
       "      <td>0.661330</td>\n",
       "    </tr>\n",
       "    <tr>\n",
       "      <th>4</th>\n",
       "      <td>45</td>\n",
       "      <td>0.563037</td>\n",
       "    </tr>\n",
       "    <tr>\n",
       "      <th>...</th>\n",
       "      <td>...</td>\n",
       "      <td>...</td>\n",
       "    </tr>\n",
       "    <tr>\n",
       "      <th>6179</th>\n",
       "      <td>26785</td>\n",
       "      <td>0.238893</td>\n",
       "    </tr>\n",
       "    <tr>\n",
       "      <th>6180</th>\n",
       "      <td>26791</td>\n",
       "      <td>0.109798</td>\n",
       "    </tr>\n",
       "    <tr>\n",
       "      <th>6181</th>\n",
       "      <td>26795</td>\n",
       "      <td>0.109798</td>\n",
       "    </tr>\n",
       "    <tr>\n",
       "      <th>6182</th>\n",
       "      <td>26796</td>\n",
       "      <td>0.288485</td>\n",
       "    </tr>\n",
       "    <tr>\n",
       "      <th>6183</th>\n",
       "      <td>26800</td>\n",
       "      <td>0.109798</td>\n",
       "    </tr>\n",
       "  </tbody>\n",
       "</table>\n",
       "<p>6184 rows × 2 columns</p>\n",
       "</div>"
      ],
      "text/plain": [
       "      user_id   is_gone\n",
       "0          12  0.490399\n",
       "1          13  0.999528\n",
       "2          21  0.991330\n",
       "3          35  0.661330\n",
       "4          45  0.563037\n",
       "...       ...       ...\n",
       "6179    26785  0.238893\n",
       "6180    26791  0.109798\n",
       "6181    26795  0.109798\n",
       "6182    26796  0.288485\n",
       "6183    26800  0.109798\n",
       "\n",
       "[6184 rows x 2 columns]"
      ]
     },
     "execution_count": 56,
     "metadata": {},
     "output_type": "execute_result"
    }
   ],
   "source": [
    "result = X_test_final.reset_index()\n",
    "result = pd.DataFrame(result.iloc[:, 0])\n",
    "result['is_gone'] = ypred_prob_final[:, 1]\n",
    "result"
   ]
  },
  {
   "cell_type": "markdown",
   "id": "a345c4dd",
   "metadata": {},
   "source": [
    "Сохраним результаты в файл"
   ]
  },
  {
   "cell_type": "code",
   "execution_count": 31,
   "id": "6b3c71de",
   "metadata": {},
   "outputs": [],
   "source": [
    "# result.to_csv('result_of_contest.csv', index=False)"
   ]
  }
 ],
 "metadata": {
  "kernelspec": {
   "display_name": "Python 3 (ipykernel)",
   "language": "python",
   "name": "python3"
  },
  "language_info": {
   "codemirror_mode": {
    "name": "ipython",
    "version": 3
   },
   "file_extension": ".py",
   "mimetype": "text/x-python",
   "name": "python",
   "nbconvert_exporter": "python",
   "pygments_lexer": "ipython3",
   "version": "3.10.9"
  }
 },
 "nbformat": 4,
 "nbformat_minor": 5
}
